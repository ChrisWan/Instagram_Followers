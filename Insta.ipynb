{
 "cells": [
  {
   "cell_type": "code",
   "execution_count": 1,
   "id": "746f6d70",
   "metadata": {},
   "outputs": [],
   "source": [
    "import numpy as np\n",
    "import pandas as pd\n",
    "import matplotlib.pyplot as plt\n",
    "import seaborn as sns"
   ]
  },
  {
   "cell_type": "code",
   "execution_count": 2,
   "id": "205f9dd2",
   "metadata": {},
   "outputs": [],
   "source": [
    "df = pd.read_csv(\"most_followed_ig.csv\")"
   ]
  },
  {
   "cell_type": "code",
   "execution_count": 3,
   "id": "66be3a52",
   "metadata": {},
   "outputs": [],
   "source": [
    "df = df.drop(['ER', 'iPOSTS ON HASHTAG'], axis=1)"
   ]
  },
  {
   "cell_type": "code",
   "execution_count": 4,
   "id": "6d8aa60c",
   "metadata": {},
   "outputs": [
    {
     "data": {
      "text/html": [
       "<div>\n",
       "<style scoped>\n",
       "    .dataframe tbody tr th:only-of-type {\n",
       "        vertical-align: middle;\n",
       "    }\n",
       "\n",
       "    .dataframe tbody tr th {\n",
       "        vertical-align: top;\n",
       "    }\n",
       "\n",
       "    .dataframe thead th {\n",
       "        text-align: right;\n",
       "    }\n",
       "</style>\n",
       "<table border=\"1\" class=\"dataframe\">\n",
       "  <thead>\n",
       "    <tr style=\"text-align: right;\">\n",
       "      <th></th>\n",
       "      <th>RANK</th>\n",
       "      <th>BRAND</th>\n",
       "      <th>CATEGORIES 1</th>\n",
       "      <th>CATEGORIES 2</th>\n",
       "      <th>FOLLOWERS</th>\n",
       "      <th>MEDIA POSTED</th>\n",
       "    </tr>\n",
       "  </thead>\n",
       "  <tbody>\n",
       "    <tr>\n",
       "      <th>0</th>\n",
       "      <td>1</td>\n",
       "      <td>Selena Gomez</td>\n",
       "      <td>celebrities</td>\n",
       "      <td>musicians</td>\n",
       "      <td>105.4Mæ(=)</td>\n",
       "      <td>1.2kæ(2135)</td>\n",
       "    </tr>\n",
       "    <tr>\n",
       "      <th>1</th>\n",
       "      <td>2</td>\n",
       "      <td>Taylor Swift</td>\n",
       "      <td>celebrities</td>\n",
       "      <td>musicians</td>\n",
       "      <td>95.2Mæ(=)</td>\n",
       "      <td>958æ(2669)</td>\n",
       "    </tr>\n",
       "    <tr>\n",
       "      <th>2</th>\n",
       "      <td>3</td>\n",
       "      <td>Ariana Grande</td>\n",
       "      <td>celebrities</td>\n",
       "      <td>musicians</td>\n",
       "      <td>92.3Mæ(=)</td>\n",
       "      <td>2.8kæ(824)</td>\n",
       "    </tr>\n",
       "    <tr>\n",
       "      <th>3</th>\n",
       "      <td>4</td>\n",
       "      <td>Beyonce</td>\n",
       "      <td>celebrities</td>\n",
       "      <td>musicians</td>\n",
       "      <td>90.6Mæ(=)</td>\n",
       "      <td>1.4kæ(1897)</td>\n",
       "    </tr>\n",
       "    <tr>\n",
       "      <th>4</th>\n",
       "      <td>5</td>\n",
       "      <td>Kim Kardashian West</td>\n",
       "      <td>celebrities</td>\n",
       "      <td>tv</td>\n",
       "      <td>89.3Mæ(=)</td>\n",
       "      <td>3.6kæ(550)</td>\n",
       "    </tr>\n",
       "  </tbody>\n",
       "</table>\n",
       "</div>"
      ],
      "text/plain": [
       "   RANK                BRAND CATEGORIES 1 CATEGORIES 2   FOLLOWERS  \\\n",
       "0     1         Selena Gomez  celebrities    musicians  105.4Mæ(=)   \n",
       "1     2         Taylor Swift  celebrities    musicians   95.2Mæ(=)   \n",
       "2     3        Ariana Grande  celebrities    musicians   92.3Mæ(=)   \n",
       "3     4              Beyonce  celebrities    musicians   90.6Mæ(=)   \n",
       "4     5  Kim Kardashian West  celebrities           tv   89.3Mæ(=)   \n",
       "\n",
       "  MEDIA POSTED  \n",
       "0  1.2kæ(2135)  \n",
       "1   958æ(2669)  \n",
       "2   2.8kæ(824)  \n",
       "3  1.4kæ(1897)  \n",
       "4   3.6kæ(550)  "
      ]
     },
     "execution_count": 4,
     "metadata": {},
     "output_type": "execute_result"
    }
   ],
   "source": [
    "df.head()"
   ]
  },
  {
   "cell_type": "code",
   "execution_count": 5,
   "id": "fa01f296",
   "metadata": {},
   "outputs": [],
   "source": [
    "df['FOLLOWERS'] = df['FOLLOWERS'].str.extract('(\\d+\\.\\d+)').astype(float)"
   ]
  },
  {
   "cell_type": "code",
   "execution_count": 6,
   "id": "cea90907",
   "metadata": {},
   "outputs": [],
   "source": [
    "df['MEDIA POSTED'] = df['MEDIA POSTED'].str.extract('(\\d\\.\\d+k|\\d+)')"
   ]
  },
  {
   "cell_type": "code",
   "execution_count": 7,
   "id": "2fb68168",
   "metadata": {},
   "outputs": [],
   "source": [
    "def transform_thousands(num):\n",
    "    if 'k' in num:\n",
    "        return float(num[:-1]) * 1000\n",
    "    else:\n",
    "        return num"
   ]
  },
  {
   "cell_type": "code",
   "execution_count": 8,
   "id": "a18a3576",
   "metadata": {},
   "outputs": [],
   "source": [
    "df['MEDIA POSTED'] = df['MEDIA POSTED'].apply(transform_thousands).astype(int)"
   ]
  },
  {
   "cell_type": "code",
   "execution_count": 9,
   "id": "baf974ba",
   "metadata": {},
   "outputs": [
    {
     "data": {
      "text/html": [
       "<div>\n",
       "<style scoped>\n",
       "    .dataframe tbody tr th:only-of-type {\n",
       "        vertical-align: middle;\n",
       "    }\n",
       "\n",
       "    .dataframe tbody tr th {\n",
       "        vertical-align: top;\n",
       "    }\n",
       "\n",
       "    .dataframe thead th {\n",
       "        text-align: right;\n",
       "    }\n",
       "</style>\n",
       "<table border=\"1\" class=\"dataframe\">\n",
       "  <thead>\n",
       "    <tr style=\"text-align: right;\">\n",
       "      <th></th>\n",
       "      <th>RANK</th>\n",
       "      <th>BRAND</th>\n",
       "      <th>CATEGORIES 1</th>\n",
       "      <th>CATEGORIES 2</th>\n",
       "      <th>FOLLOWERS</th>\n",
       "      <th>MEDIA POSTED</th>\n",
       "    </tr>\n",
       "  </thead>\n",
       "  <tbody>\n",
       "    <tr>\n",
       "      <th>0</th>\n",
       "      <td>1</td>\n",
       "      <td>Selena Gomez</td>\n",
       "      <td>celebrities</td>\n",
       "      <td>musicians</td>\n",
       "      <td>105.4</td>\n",
       "      <td>1200</td>\n",
       "    </tr>\n",
       "    <tr>\n",
       "      <th>1</th>\n",
       "      <td>2</td>\n",
       "      <td>Taylor Swift</td>\n",
       "      <td>celebrities</td>\n",
       "      <td>musicians</td>\n",
       "      <td>95.2</td>\n",
       "      <td>958</td>\n",
       "    </tr>\n",
       "    <tr>\n",
       "      <th>2</th>\n",
       "      <td>3</td>\n",
       "      <td>Ariana Grande</td>\n",
       "      <td>celebrities</td>\n",
       "      <td>musicians</td>\n",
       "      <td>92.3</td>\n",
       "      <td>2800</td>\n",
       "    </tr>\n",
       "    <tr>\n",
       "      <th>3</th>\n",
       "      <td>4</td>\n",
       "      <td>Beyonce</td>\n",
       "      <td>celebrities</td>\n",
       "      <td>musicians</td>\n",
       "      <td>90.6</td>\n",
       "      <td>1400</td>\n",
       "    </tr>\n",
       "    <tr>\n",
       "      <th>4</th>\n",
       "      <td>5</td>\n",
       "      <td>Kim Kardashian West</td>\n",
       "      <td>celebrities</td>\n",
       "      <td>tv</td>\n",
       "      <td>89.3</td>\n",
       "      <td>3600</td>\n",
       "    </tr>\n",
       "  </tbody>\n",
       "</table>\n",
       "</div>"
      ],
      "text/plain": [
       "   RANK                BRAND CATEGORIES 1 CATEGORIES 2  FOLLOWERS  \\\n",
       "0     1         Selena Gomez  celebrities    musicians      105.4   \n",
       "1     2         Taylor Swift  celebrities    musicians       95.2   \n",
       "2     3        Ariana Grande  celebrities    musicians       92.3   \n",
       "3     4              Beyonce  celebrities    musicians       90.6   \n",
       "4     5  Kim Kardashian West  celebrities           tv       89.3   \n",
       "\n",
       "   MEDIA POSTED  \n",
       "0          1200  \n",
       "1           958  \n",
       "2          2800  \n",
       "3          1400  \n",
       "4          3600  "
      ]
     },
     "execution_count": 9,
     "metadata": {},
     "output_type": "execute_result"
    }
   ],
   "source": [
    "df.head()"
   ]
  },
  {
   "cell_type": "code",
   "execution_count": 79,
   "id": "7958cb98",
   "metadata": {},
   "outputs": [
    {
     "data": {
      "text/plain": [
       "<Figure size 864x432 with 0 Axes>"
      ]
     },
     "metadata": {},
     "output_type": "display_data"
    },
    {
     "data": {
      "image/png": "[encoded data removed]",
      "text/plain": [
       "<Figure size 360x360 with 1 Axes>"
      ]
     },
     "metadata": {
      "needs_background": "light"
     },
     "output_type": "display_data"
    }
   ],
   "source": [
    "# we can see that by far the most people have not shared more than about 250 posts.\n",
    "plt.figure(figsize=(12,6))\n",
    "sns.displot(data=df, x='MEDIA POSTED', bins=30)\n",
    "plt.xlim(0,4000);"
   ]
  },
  {
   "cell_type": "code",
   "execution_count": 11,
   "id": "92f18d95",
   "metadata": {},
   "outputs": [
    {
     "data": {
      "text/html": [
       "<div>\n",
       "<style scoped>\n",
       "    .dataframe tbody tr th:only-of-type {\n",
       "        vertical-align: middle;\n",
       "    }\n",
       "\n",
       "    .dataframe tbody tr th {\n",
       "        vertical-align: top;\n",
       "    }\n",
       "\n",
       "    .dataframe thead th {\n",
       "        text-align: right;\n",
       "    }\n",
       "</style>\n",
       "<table border=\"1\" class=\"dataframe\">\n",
       "  <thead>\n",
       "    <tr style=\"text-align: right;\">\n",
       "      <th></th>\n",
       "      <th>RANK</th>\n",
       "      <th>FOLLOWERS</th>\n",
       "      <th>MEDIA POSTED</th>\n",
       "    </tr>\n",
       "  </thead>\n",
       "  <tbody>\n",
       "    <tr>\n",
       "      <th>count</th>\n",
       "      <td>100.000000</td>\n",
       "      <td>89.000000</td>\n",
       "      <td>100.000000</td>\n",
       "    </tr>\n",
       "    <tr>\n",
       "      <th>mean</th>\n",
       "      <td>50.500000</td>\n",
       "      <td>31.873034</td>\n",
       "      <td>1930.650000</td>\n",
       "    </tr>\n",
       "    <tr>\n",
       "      <th>std</th>\n",
       "      <td>29.011492</td>\n",
       "      <td>25.068664</td>\n",
       "      <td>1825.302053</td>\n",
       "    </tr>\n",
       "    <tr>\n",
       "      <th>min</th>\n",
       "      <td>1.000000</td>\n",
       "      <td>11.500000</td>\n",
       "      <td>1.000000</td>\n",
       "    </tr>\n",
       "    <tr>\n",
       "      <th>25%</th>\n",
       "      <td>25.750000</td>\n",
       "      <td>14.200000</td>\n",
       "      <td>503.250000</td>\n",
       "    </tr>\n",
       "    <tr>\n",
       "      <th>50%</th>\n",
       "      <td>50.500000</td>\n",
       "      <td>18.300000</td>\n",
       "      <td>1500.000000</td>\n",
       "    </tr>\n",
       "    <tr>\n",
       "      <th>75%</th>\n",
       "      <td>75.250000</td>\n",
       "      <td>45.900000</td>\n",
       "      <td>2950.000000</td>\n",
       "    </tr>\n",
       "    <tr>\n",
       "      <th>max</th>\n",
       "      <td>100.000000</td>\n",
       "      <td>105.400000</td>\n",
       "      <td>8900.000000</td>\n",
       "    </tr>\n",
       "  </tbody>\n",
       "</table>\n",
       "</div>"
      ],
      "text/plain": [
       "             RANK   FOLLOWERS  MEDIA POSTED\n",
       "count  100.000000   89.000000    100.000000\n",
       "mean    50.500000   31.873034   1930.650000\n",
       "std     29.011492   25.068664   1825.302053\n",
       "min      1.000000   11.500000      1.000000\n",
       "25%     25.750000   14.200000    503.250000\n",
       "50%     50.500000   18.300000   1500.000000\n",
       "75%     75.250000   45.900000   2950.000000\n",
       "max    100.000000  105.400000   8900.000000"
      ]
     },
     "execution_count": 11,
     "metadata": {},
     "output_type": "execute_result"
    }
   ],
   "source": [
    "df.describe()"
   ]
  },
  {
   "cell_type": "code",
   "execution_count": 18,
   "id": "e62ac724",
   "metadata": {},
   "outputs": [
    {
     "data": {
      "image/png": "[encoded data removed]",
      "text/plain": [
       "<Figure size 864x432 with 1 Axes>"
      ]
     },
     "metadata": {
      "needs_background": "light"
     },
     "output_type": "display_data"
    }
   ],
   "source": [
    "# celebrities post by the most content - although it is hard to distinguish between some of the categories.\n",
    "plt.figure(figsize=(12,6))\n",
    "sns.countplot(data=df, x='CATEGORIES 1', order = df['CATEGORIES 1'].value_counts().index)\n",
    "plt.xticks(rotation=90);"
   ]
  },
  {
   "cell_type": "code",
   "execution_count": 17,
   "id": "1a527f91",
   "metadata": {},
   "outputs": [
    {
     "data": {
      "image/png": "[encoded data removed]",
      "text/plain": [
       "<Figure size 864x432 with 1 Axes>"
      ]
     },
     "metadata": {
      "needs_background": "light"
     },
     "output_type": "display_data"
    }
   ],
   "source": [
    "# subcategories are better to differentiate.\n",
    "plt.figure(figsize=(12,6))\n",
    "sns.countplot(data=df, x='CATEGORIES 2', order = df['CATEGORIES 2'].value_counts().index)\n",
    "plt.xticks(rotation=90);"
   ]
  },
  {
   "cell_type": "code",
   "execution_count": 24,
   "id": "f6b60dd0",
   "metadata": {},
   "outputs": [
    {
     "data": {
      "text/html": [
       "<div>\n",
       "<style scoped>\n",
       "    .dataframe tbody tr th:only-of-type {\n",
       "        vertical-align: middle;\n",
       "    }\n",
       "\n",
       "    .dataframe tbody tr th {\n",
       "        vertical-align: top;\n",
       "    }\n",
       "\n",
       "    .dataframe thead th {\n",
       "        text-align: right;\n",
       "    }\n",
       "</style>\n",
       "<table border=\"1\" class=\"dataframe\">\n",
       "  <thead>\n",
       "    <tr style=\"text-align: right;\">\n",
       "      <th></th>\n",
       "      <th>RANK</th>\n",
       "      <th>FOLLOWERS</th>\n",
       "      <th>MEDIA POSTED</th>\n",
       "    </tr>\n",
       "  </thead>\n",
       "  <tbody>\n",
       "    <tr>\n",
       "      <th>count</th>\n",
       "      <td>30.000000</td>\n",
       "      <td>28.000000</td>\n",
       "      <td>30.000000</td>\n",
       "    </tr>\n",
       "    <tr>\n",
       "      <th>mean</th>\n",
       "      <td>43.566667</td>\n",
       "      <td>39.821429</td>\n",
       "      <td>2023.966667</td>\n",
       "    </tr>\n",
       "    <tr>\n",
       "      <th>std</th>\n",
       "      <td>31.022443</td>\n",
       "      <td>30.465589</td>\n",
       "      <td>1539.237260</td>\n",
       "    </tr>\n",
       "    <tr>\n",
       "      <th>min</th>\n",
       "      <td>1.000000</td>\n",
       "      <td>11.600000</td>\n",
       "      <td>3.000000</td>\n",
       "    </tr>\n",
       "    <tr>\n",
       "      <th>25%</th>\n",
       "      <td>18.250000</td>\n",
       "      <td>14.575000</td>\n",
       "      <td>743.750000</td>\n",
       "    </tr>\n",
       "    <tr>\n",
       "      <th>50%</th>\n",
       "      <td>40.000000</td>\n",
       "      <td>24.400000</td>\n",
       "      <td>1500.000000</td>\n",
       "    </tr>\n",
       "    <tr>\n",
       "      <th>75%</th>\n",
       "      <td>70.750000</td>\n",
       "      <td>58.250000</td>\n",
       "      <td>3125.000000</td>\n",
       "    </tr>\n",
       "    <tr>\n",
       "      <th>max</th>\n",
       "      <td>98.000000</td>\n",
       "      <td>105.400000</td>\n",
       "      <td>5800.000000</td>\n",
       "    </tr>\n",
       "  </tbody>\n",
       "</table>\n",
       "</div>"
      ],
      "text/plain": [
       "            RANK   FOLLOWERS  MEDIA POSTED\n",
       "count  30.000000   28.000000     30.000000\n",
       "mean   43.566667   39.821429   2023.966667\n",
       "std    31.022443   30.465589   1539.237260\n",
       "min     1.000000   11.600000      3.000000\n",
       "25%    18.250000   14.575000    743.750000\n",
       "50%    40.000000   24.400000   1500.000000\n",
       "75%    70.750000   58.250000   3125.000000\n",
       "max    98.000000  105.400000   5800.000000"
      ]
     },
     "execution_count": 24,
     "metadata": {},
     "output_type": "execute_result"
    }
   ],
   "source": [
    "df[df['CATEGORIES 2'] == 'musicians'].describe()"
   ]
  },
  {
   "cell_type": "code",
   "execution_count": 52,
   "id": "453e0f39",
   "metadata": {},
   "outputs": [
    {
     "name": "stderr",
     "output_type": "stream",
     "text": [
      "C:\\Users\\wanke\\AppData\\Local\\Temp/ipykernel_16724/1618088323.py:3: FutureWarning: Dropping of nuisance columns in DataFrame reductions (with 'numeric_only=None') is deprecated; in a future version this will raise TypeError.  Select only valid columns before calling the reduction.\n",
      "  mean = df[df['CATEGORIES 2'] == cat].median()\n"
     ]
    }
   ],
   "source": [
    "means = []\n",
    "for cat in list(df['CATEGORIES 2'].value_counts().index):\n",
    "    mean = df[df['CATEGORIES 2'] == cat].median()\n",
    "    means.append(mean)\n",
    "\n",
    "df_means = pd.DataFrame(data=means, index=df['CATEGORIES 2'].value_counts().index)"
   ]
  },
  {
   "cell_type": "code",
   "execution_count": 77,
   "id": "996dcbed",
   "metadata": {},
   "outputs": [
    {
     "data": {
      "text/html": [
       "<div>\n",
       "<style scoped>\n",
       "    .dataframe tbody tr th:only-of-type {\n",
       "        vertical-align: middle;\n",
       "    }\n",
       "\n",
       "    .dataframe tbody tr th {\n",
       "        vertical-align: top;\n",
       "    }\n",
       "\n",
       "    .dataframe thead th {\n",
       "        text-align: right;\n",
       "    }\n",
       "</style>\n",
       "<table border=\"1\" class=\"dataframe\">\n",
       "  <thead>\n",
       "    <tr style=\"text-align: right;\">\n",
       "      <th></th>\n",
       "      <th>FOLLOWERS</th>\n",
       "      <th>MEDIA POSTED</th>\n",
       "    </tr>\n",
       "  </thead>\n",
       "  <tbody>\n",
       "    <tr>\n",
       "      <th>musicians</th>\n",
       "      <td>24.4</td>\n",
       "      <td>1500.0</td>\n",
       "    </tr>\n",
       "    <tr>\n",
       "      <th>athletes</th>\n",
       "      <td>18.7</td>\n",
       "      <td>605.5</td>\n",
       "    </tr>\n",
       "    <tr>\n",
       "      <th>actors</th>\n",
       "      <td>21.4</td>\n",
       "      <td>718.0</td>\n",
       "    </tr>\n",
       "    <tr>\n",
       "      <th>tv</th>\n",
       "      <td>38.2</td>\n",
       "      <td>2100.0</td>\n",
       "    </tr>\n",
       "    <tr>\n",
       "      <th>models</th>\n",
       "      <td>36.2</td>\n",
       "      <td>2700.0</td>\n",
       "    </tr>\n",
       "  </tbody>\n",
       "</table>\n",
       "</div>"
      ],
      "text/plain": [
       "           FOLLOWERS  MEDIA POSTED\n",
       "musicians       24.4        1500.0\n",
       "athletes        18.7         605.5\n",
       "actors          21.4         718.0\n",
       "tv              38.2        2100.0\n",
       "models          36.2        2700.0"
      ]
     },
     "execution_count": 77,
     "metadata": {},
     "output_type": "execute_result"
    }
   ],
   "source": [
    "df_means.drop('RANK', axis=1).head()"
   ]
  },
  {
   "cell_type": "code",
   "execution_count": 76,
   "id": "bcdfca4a",
   "metadata": {},
   "outputs": [
    {
     "data": {
      "image/png": "[encoded data removed]",
      "text/plain": [
       "<Figure size 864x432 with 1 Axes>"
      ]
     },
     "metadata": {
      "needs_background": "light"
     },
     "output_type": "display_data"
    }
   ],
   "source": [
    "# average number of followers by subcategory\n",
    "plt.figure(figsize=(12,6))\n",
    "sns.barplot(data=df_means.drop('RANK', axis=1).sort_values(by=['FOLLOWERS'], ascending=False), x=df_means.drop('RANK', axis=1).sort_values(by=['FOLLOWERS'], ascending=False).index, y='FOLLOWERS')\n",
    "plt.xticks(rotation=90);"
   ]
  },
  {
   "cell_type": "code",
   "execution_count": 78,
   "id": "39e37b60",
   "metadata": {},
   "outputs": [
    {
     "data": {
      "image/png": "[encoded data removed]",
      "text/plain": [
       "<Figure size 864x432 with 1 Axes>"
      ]
     },
     "metadata": {
      "needs_background": "light"
     },
     "output_type": "display_data"
    }
   ],
   "source": [
    "# average number of posts by an individual belonging to a subcategory\n",
    "plt.figure(figsize=(12,6))\n",
    "sns.barplot(data=df_means.drop('RANK', axis=1).sort_values(by=['MEDIA POSTED'], ascending=False), x=df_means.drop('RANK', axis=1).sort_values(by=['MEDIA POSTED'], ascending=False).index, y='MEDIA POSTED')\n",
    "plt.xticks(rotation=90);"
   ]
  }
 ],
 "metadata": {
  "kernelspec": {
   "display_name": "Python 3 (ipykernel)",
   "language": "python",
   "name": "python3"
  },
  "language_info": {
   "codemirror_mode": {
    "name": "ipython",
    "version": 3
   },
   "file_extension": ".py",
   "mimetype": "text/x-python",
   "name": "python",
   "nbconvert_exporter": "python",
   "pygments_lexer": "ipython3",
   "version": "3.8.12"
  }
 },
 "nbformat": 4,
 "nbformat_minor": 5
}
